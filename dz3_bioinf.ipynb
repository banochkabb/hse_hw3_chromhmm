{
 "cells": [
  {
   "cell_type": "markdown",
   "metadata": {
    "id": "vRciyzvPEDLD"
   },
   "source": [
    "# Устанавливаем java и ChromHmm"
   ]
  },
  {
   "cell_type": "code",
   "execution_count": null,
   "metadata": {
    "colab": {
     "base_uri": "https://localhost:8080/"
    },
    "id": "1O3GJ3Gys7Tm",
    "outputId": "3e252ff9-74a3-4554-ec77-535462419ed6"
   },
   "outputs": [],
   "source": [
    "!curl -O https://raw.githubusercontent.com/deepjavalibrary/d2l-java/master/tools/fix-colab-gpu.sh && bash fix-colab-gpu.sh"
   ]
  },
  {
   "cell_type": "code",
   "execution_count": null,
   "metadata": {
    "colab": {
     "base_uri": "https://localhost:8080/"
    },
    "id": "NxS1Mv5WquOV",
    "outputId": "bbcbecbd-a1ed-4def-c702-f9e5333799dd"
   },
   "outputs": [],
   "source": [
    "!curl -O https://raw.githubusercontent.com/deepjavalibrary/d2l-java/master/tools/colab_build.sh && bash colab_build.sh"
   ]
  },
  {
   "cell_type": "code",
   "execution_count": null,
   "metadata": {
    "colab": {
     "base_uri": "https://localhost:8080/"
    },
    "id": "_NrPS924rQFX",
    "outputId": "175a74db-df2f-4c5c-c4cd-039c095436d4"
   },
   "outputs": [],
   "source": [
    "!java --list-modules | grep \"jdk.jshell\"\n"
   ]
  },
  {
   "cell_type": "code",
   "execution_count": null,
   "metadata": {
    "colab": {
     "base_uri": "https://localhost:8080/"
    },
    "id": "zCdYYvCJrpRt",
    "outputId": "ff2b7770-551d-4fa0-9e34-27c9b7fdc8d2"
   },
   "outputs": [],
   "source": [
    "! wget http://compbio.mit.edu/ChromHMM/ChromHMM.zip"
   ]
  },
  {
   "cell_type": "code",
   "execution_count": null,
   "metadata": {
    "colab": {
     "base_uri": "https://localhost:8080/"
    },
    "id": "gF4uI2bvvEN2",
    "outputId": "b8cd1e53-3c97-4f40-f766-036e2538ce62"
   },
   "outputs": [],
   "source": [
    "!unzip /content/ChromHMM.zip"
   ]
  },
  {
   "cell_type": "markdown",
   "metadata": {
    "id": "k80uGrS5quq1"
   },
   "source": [
    "## Скачиваем файлы"
   ]
  },
  {
   "cell_type": "markdown",
   "metadata": {
    "id": "zbZOefNL7wej"
   },
   "source": [
    "Пример"
   ]
  },
  {
   "cell_type": "code",
   "execution_count": null,
   "metadata": {
    "colab": {
     "base_uri": "https://localhost:8080/"
    },
    "id": "PSWbbv8wcFUY",
    "outputId": "66597558-2220-4e0d-cd6d-23864e44c644"
   },
   "outputs": [],
   "source": [
    "!wget http://hgdownload.cse.ucsc.edu/goldenPath/hg19/encodeDCC/wgEncodeBroadHistone/wgEncodeBroadHistoneA549H3k04me1Dex100nmAlnRep1.bam -O H3K04me1.bam\n",
    "!wget http://hgdownload.cse.ucsc.edu/goldenPath/hg19/encodeDCC/wgEncodeBroadHistone/wgEncodeBroadHistoneA549H3k04me2Dex100nmAlnRep1.bam -O H3K04me2.bam\n",
    "!wget http://hgdownload.cse.ucsc.edu/goldenPath/hg19/encodeDCC/wgEncodeBroadHistone/wgEncodeBroadHistoneA549H3k04me3Dex100nmAlnRep1.bam -O H3K04me3.bam\n",
    "\n",
    "!wget http://hgdownload.cse.ucsc.edu/goldenPath/hg19/encodeDCC/wgEncodeBroadHistone/wgEncodeBroadHistoneA549H3k09acEtoh02AlnRep1.bam -O H3K09ac.bam\n",
    "!wget http://hgdownload.cse.ucsc.edu/goldenPath/hg19/encodeDCC/wgEncodeBroadHistone/wgEncodeBroadHistoneA549H3k09me3Etoh02AlnRep1.bam -O H3K09me3.bam\n",
    "\n",
    "!wget http://hgdownload.cse.ucsc.edu/goldenPath/hg19/encodeDCC/wgEncodeBroadHistone/wgEncodeBroadHistoneA549H4k20me1Etoh02AlnRep1.bam -O H4K20me1.bam\n",
    "\n",
    "!wget http://hgdownload.cse.ucsc.edu/goldenPath/hg19/encodeDCC/wgEncodeBroadHistone/wgEncodeBroadHistoneA549H3k27acDex100nmAlnRep1.bam -O H3K27ac.bam\n",
    "!wget http://hgdownload.cse.ucsc.edu/goldenPath/hg19/encodeDCC/wgEncodeBroadHistone/wgEncodeBroadHistoneA549H3k27me3Dex100nmAlnRep1.bam -O H3K27me3.bam\n",
    "\n",
    "!wget http://hgdownload.cse.ucsc.edu/goldenPath/hg19/encodeDCC/wgEncodeBroadHistone/wgEncodeBroadHistoneA549H3k36me3Dex100nmAlnRep1.bam -O H3K36me3.bam\n",
    "!wget http://hgdownload.cse.ucsc.edu/goldenPath/hg19/encodeDCC/wgEncodeBroadHistone/wgEncodeBroadHistoneA549H3k79me2Dex100nmAlnRep1.bam -O H3K79me2.bam\n"
   ]
  },
  {
   "cell_type": "code",
   "execution_count": null,
   "metadata": {
    "colab": {
     "base_uri": "https://localhost:8080/"
    },
    "id": "F_ukZsZmFhj2",
    "outputId": "aa62a3e1-16ab-48be-909d-1e22c8d83a1c"
   },
   "outputs": [],
   "source": [
    "!wget http://hgdownload.cse.ucsc.edu/goldenPath/hg19/encodeDCC/wgEncodeBroadHistone/wgEncodeBroadHistoneA549ControlEtoh02AlnRep1.bam -O Control.bam"
   ]
  },
  {
   "cell_type": "code",
   "execution_count": null,
   "metadata": {
    "id": "eoaQU2HAFJeB"
   },
   "outputs": [],
   "source": [
    "!touch cellmarkfiletable.txt"
   ]
  },
  {
   "cell_type": "markdown",
   "metadata": {
    "id": "asjMJ26h79SY"
   },
   "source": [
    "* Вручную создаем текстовый файл cellmarkfiletable.txt, в котором указываем название типа клеток, разных гистоновых меток, а также соответствующие .bam файлы для эксперимента и контроля. Один и тот же контрольный файл .bam может быть использован для всех экспериментов.\n",
    "\n",
    "* Более подробно о содержании файла cellmarkfiletable.txt можно посмотреть в руководстве пользователя ChromHMM\n",
    "\n",
    "* Файл cellmarkfiletable.txt добавляем в github репозиторий для отчета"
   ]
  },
  {
   "cell_type": "markdown",
   "metadata": {
    "id": "WeoRL3rp728b"
   },
   "source": [
    "Запускаем ChromHMM с опцией BinarizeBam, чтобы конвертировать профили из ChIP-seq экспериментов (bam-файлы) в табличку из 0 и 1, т.е. чтобы сделать разбивку генома на условные интервалы (бины) длиной 200 п.о.\n",
    "Для 11 меток программа работает около 5 мин\n"
   ]
  },
  {
   "cell_type": "code",
   "execution_count": null,
   "metadata": {
    "id": "0na1oVnEHVDU"
   },
   "outputs": [],
   "source": [
    "import os\n",
    "\n",
    "# !> cellmarkfiletable.txt\n",
    "control = 'Control.bam'\n",
    "\n",
    "with open(f'cellmarkfiletable.txt', 'a') as the_file:\n",
    "  for file in os.listdir():\n",
    "    if file[-3:] == 'bam' and \"Control\" not in file:\n",
    "      the_file.write(f'A549\\t{file[:-4]}\\t{file}\\t{control}\\n')"
   ]
  },
  {
   "cell_type": "code",
   "execution_count": null,
   "metadata": {
    "colab": {
     "base_uri": "https://localhost:8080/"
    },
    "id": "GcVBvuQZfzb8",
    "outputId": "55e364bd-8ee8-4149-8738-ca2cc8f9181b"
   },
   "outputs": [],
   "source": [
    "!java -mx5000M -jar /content/ChromHMM/ChromHMM.jar BinarizeBam -b 200  /content/ChromHMM/CHROMSIZES/hg19.txt /content/ cellmarkfiletable.txt   binarizedData\n"
   ]
  },
  {
   "cell_type": "markdown",
   "metadata": {
    "id": "Yo11TtNG8SXU"
   },
   "source": [
    "Запускаем ChromHMM с опцией LearnModel (см. руководство пользователя), которая автоматически определит параметры N разных эпигенетических типов с наиболее выраженными наборами гистоновых меток и присвоит каждому геномному интервалу определенный эпигенетический тип. Количество разных эпигенетических типов (или состояний) выбираете сами (например 10 штук).\n",
    "Не забудьте, что мы работаем с версией референсного генома человека hg19\n",
    "Для 11 меток программа работает около 10 минут\n"
   ]
  },
  {
   "cell_type": "code",
   "execution_count": null,
   "metadata": {
    "colab": {
     "base_uri": "https://localhost:8080/"
    },
    "id": "iMk3_N7jKVzH",
    "outputId": "13ebfbf1-3869-4d38-937a-871d28ad7e1c"
   },
   "outputs": [],
   "source": [
    "!java -mx5000M -jar /content/ChromHMM/ChromHMM.jar LearnModel -b 200 /content/binarizedData/ /content/data 10 hg19"
   ]
  },
  {
   "cell_type": "markdown",
   "metadata": {
    "id": "7yuCmmw-gsFC"
   },
   "source": [
    "В результате выполнения команды LearnModel будет создан набор файлов (в том числе HTML страничка) в папке выдачи, которая была указана при запуске. Скачиваем эту папку себе на копьютер и открываем HTML файл.\n",
    "\n",
    "Дальнейшие инстркции -- см. в описании ДЗ"
   ]
  },
  {
   "cell_type": "code",
   "execution_count": null,
   "metadata": {
    "id": "hFjw3dqIQEEG"
   },
   "outputs": [],
   "source": [
    "!touch A549_10_dense_new.bed\n"
   ]
  },
  {
   "cell_type": "code",
   "execution_count": null,
   "metadata": {
    "id": "5Oq_fbJEQCy1"
   },
   "outputs": [],
   "source": [
    "states = [\n",
    "    'Heterochromatin', \n",
    "    'Repressed', \n",
    "    'Weak_Txn', \n",
    "    'Weak_Txn', \n",
    "    'Weak_Txn', \n",
    "    'Weak_Enhancer', \n",
    "    'Weak_Enhancer', \n",
    "    'Strong_Enhancer', \n",
    "    'Active_Promoter', \n",
    "    'Active_Promoter'\n",
    "]\n",
    "\n",
    "with open(f'A549_10_dense_new.bed', 'a') as new_f:\n",
    "    with open(f'data/A549_10_dense.bed', 'r') as old_f:\n",
    "        lines = old_f.readlines()\n",
    "        new_f.write(lines[0])\n",
    "        for line in lines[1:]:\n",
    "            l = line.split('\\t')\n",
    "            l[3] += ('_' + states[int(l[3]) - 1])\n",
    "            new_f.write('\\t\\t'.join(l))\n",
    "\n"
   ]
  },
  {
   "cell_type": "code",
   "execution_count": null,
   "metadata": {
    "colab": {
     "base_uri": "https://localhost:8080/"
    },
    "id": "Hsrfu5ZBQC7G",
    "outputId": "5085d690-84a4-4ef8-87de-89122d571b78"
   },
   "outputs": [],
   "source": [
    "!head A549_10_dense_new.bed"
   ]
  },
  {
   "cell_type": "code",
   "execution_count": null,
   "metadata": {
    "id": "pCLMikNAQIqz"
   },
   "outputs": [],
   "source": []
  }
 ],
 "metadata": {
  "colab": {
   "name": "DZ3.ipynb",
   "provenance": []
  },
  "kernelspec": {
   "display_name": "Python 3 (ipykernel)",
   "language": "python",
   "name": "python3"
  },
  "language_info": {
   "codemirror_mode": {
    "name": "ipython",
    "version": 3
   },
   "file_extension": ".py",
   "mimetype": "text/x-python",
   "name": "python",
   "nbconvert_exporter": "python",
   "pygments_lexer": "ipython3",
   "version": "3.9.7"
  }
 },
 "nbformat": 4,
 "nbformat_minor": 1
}
